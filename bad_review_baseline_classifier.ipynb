{
 "cells": [
  {
   "cell_type": "markdown",
   "metadata": {},
   "source": [
    "## Classifying Bad Product Reviews: Baseline Model\n",
    "\n",
    "**Team J Cubed**: James Wei, Jessica Ko, Jay Patel\n",
    "\n",
    "CS 294-129, Fall 2016"
   ]
  },
  {
   "cell_type": "markdown",
   "metadata": {},
   "source": [
    "### Organize imports"
   ]
  },
  {
   "cell_type": "code",
   "execution_count": 1,
   "metadata": {
    "collapsed": true
   },
   "outputs": [],
   "source": [
    "from __future__ import division, print_function, absolute_import\n",
    "from sklearn.feature_extraction.text import *\n",
    "from sklearn.linear_model import LogisticRegression\n",
    "from sklearn.metrics import roc_curve, auc\n",
    "from sklearn.model_selection import train_test_split\n",
    "\n",
    "import matplotlib.pyplot as plt\n",
    "%matplotlib inline\n",
    "import numpy as np\n",
    "import pandas as pd\n",
    "import random\n",
    "import sklearn\n",
    "import string"
   ]
  },
  {
   "cell_type": "markdown",
   "metadata": {},
   "source": [
    "### Load and split dataset\n",
    "\n",
    "Note that the 'review_text' field in the dataset has already been normalized (removed capitalization, punctuation, and stopwords)."
   ]
  },
  {
   "cell_type": "code",
   "execution_count": 2,
   "metadata": {
    "collapsed": false
   },
   "outputs": [
    {
     "data": {
      "text/html": [
       "<div>\n",
       "<table border=\"1\" class=\"dataframe\">\n",
       "  <thead>\n",
       "    <tr style=\"text-align: right;\">\n",
       "      <th></th>\n",
       "      <th>reviewer_id</th>\n",
       "      <th>asin</th>\n",
       "      <th>review_text</th>\n",
       "      <th>overall</th>\n",
       "      <th>category</th>\n",
       "      <th>good</th>\n",
       "      <th>bad</th>\n",
       "    </tr>\n",
       "  </thead>\n",
       "  <tbody>\n",
       "    <tr>\n",
       "      <th>0</th>\n",
       "      <td>A2SJHD3EUSTWUQ</td>\n",
       "      <td>B00DX7TQN4</td>\n",
       "      <td>cute riveting bought year old kids loved glued...</td>\n",
       "      <td>5.0</td>\n",
       "      <td>1</td>\n",
       "      <td>0</td>\n",
       "      <td>0</td>\n",
       "    </tr>\n",
       "    <tr>\n",
       "      <th>1</th>\n",
       "      <td>A302C4H5KWW1ET</td>\n",
       "      <td>B0013WLX6O</td>\n",
       "      <td>fun game one favorite games definitely allows ...</td>\n",
       "      <td>5.0</td>\n",
       "      <td>22</td>\n",
       "      <td>0</td>\n",
       "      <td>0</td>\n",
       "    </tr>\n",
       "    <tr>\n",
       "      <th>2</th>\n",
       "      <td>A3VQA0Q5XV18OC</td>\n",
       "      <td>048660361X</td>\n",
       "      <td>one book learn thermodynamics last week dinner...</td>\n",
       "      <td>5.0</td>\n",
       "      <td>5</td>\n",
       "      <td>1</td>\n",
       "      <td>0</td>\n",
       "    </tr>\n",
       "    <tr>\n",
       "      <th>3</th>\n",
       "      <td>A2I7MLXU3H5YXZ</td>\n",
       "      <td>1492955949</td>\n",
       "      <td>panty melting hot started chatting author page...</td>\n",
       "      <td>5.0</td>\n",
       "      <td>5</td>\n",
       "      <td>0</td>\n",
       "      <td>0</td>\n",
       "    </tr>\n",
       "    <tr>\n",
       "      <th>4</th>\n",
       "      <td>AXSUYHR01V8HQ</td>\n",
       "      <td>0553714430</td>\n",
       "      <td>unfair unbalanced book reilly attacks hip hop ...</td>\n",
       "      <td>1.0</td>\n",
       "      <td>5</td>\n",
       "      <td>0</td>\n",
       "      <td>0</td>\n",
       "    </tr>\n",
       "  </tbody>\n",
       "</table>\n",
       "</div>"
      ],
      "text/plain": [
       "      reviewer_id        asin  \\\n",
       "0  A2SJHD3EUSTWUQ  B00DX7TQN4   \n",
       "1  A302C4H5KWW1ET  B0013WLX6O   \n",
       "2  A3VQA0Q5XV18OC  048660361X   \n",
       "3  A2I7MLXU3H5YXZ  1492955949   \n",
       "4   AXSUYHR01V8HQ  0553714430   \n",
       "\n",
       "                                         review_text  overall  category  good  \\\n",
       "0  cute riveting bought year old kids loved glued...      5.0         1     0   \n",
       "1  fun game one favorite games definitely allows ...      5.0        22     0   \n",
       "2  one book learn thermodynamics last week dinner...      5.0         5     1   \n",
       "3  panty melting hot started chatting author page...      5.0         5     0   \n",
       "4  unfair unbalanced book reilly attacks hip hop ...      1.0         5     0   \n",
       "\n",
       "   bad  \n",
       "0    0  \n",
       "1    0  \n",
       "2    0  \n",
       "3    0  \n",
       "4    0  "
      ]
     },
     "execution_count": 2,
     "metadata": {},
     "output_type": "execute_result"
    }
   ],
   "source": [
    "def split_train_test(df, test_size):\n",
    "    train, test = train_test_split(df, test_size=test_size, random_state=random.randint(0, 99))\n",
    "    train.reset_index(drop=True, inplace=True)\n",
    "    test.reset_index(drop=True, inplace=True)\n",
    "    return train, test\n",
    "\n",
    "dataset_path = 'data/supermin_bad_20k_fullcols.csv' # Minimized dataset\n",
    "\n",
    "df = pd.read_csv(dataset_path, sep='|', index_col=0)\n",
    "\n",
    "# Training: 60%, Validation: 20%, Testing: 20%\n",
    "df_train, df_test = split_train_test(df, 0.200)\n",
    "df_train, df_val = split_train_test(df_train, 0.250)\n",
    "\n",
    "df_train.head()"
   ]
  },
  {
   "cell_type": "markdown",
   "metadata": {},
   "source": [
    "### Featurize"
   ]
  },
  {
   "cell_type": "markdown",
   "metadata": {},
   "source": [
    "#### tf-idf"
   ]
  },
  {
   "cell_type": "code",
   "execution_count": 3,
   "metadata": {
    "collapsed": false
   },
   "outputs": [
    {
     "name": "stdout",
     "output_type": "stream",
     "text": [
      "Fitting tf-idf featurizer.\n",
      "Featurizing training set.\n",
      "Shape: (12000, 300)\n",
      "Featurizing validation set.\n",
      "Shape: (4000, 300)\n",
      "Featurizing test set.\n",
      "Shape: (4000, 300)\n"
     ]
    }
   ],
   "source": [
    "class TfidfFeaturizer(object):\n",
    "    def __init__(self, col_name='review_text', max_features=1000):\n",
    "        self.col_name = col_name\n",
    "        self.max_features = max_features\n",
    "        self.vectorizer = None\n",
    "        \n",
    "    def fit_transform(self, df):\n",
    "        docs = self.__create_doc_list(df)\n",
    "        self.vectorizer = TfidfVectorizer(\n",
    "            ngram_range=(1,3),\n",
    "            max_features=self.max_features\n",
    "        )\n",
    "        return (self.vectorizer.fit_transform(docs)).toarray()\n",
    "\n",
    "    def transform(self, df):\n",
    "        if self.vectorizer is not None:\n",
    "            docs = self.__create_doc_list(df)\n",
    "            return (self.vectorizer.transform(docs)).toarray()\n",
    "        else:\n",
    "            return None\n",
    "\n",
    "    def __create_doc_list(self, df):\n",
    "        return df[self.col_name].tolist()\n",
    "\n",
    "n_tfidf_features = 300\n",
    "tfidf_featurizer = TfidfFeaturizer(max_features=n_tfidf_features)\n",
    "\n",
    "print('Fitting tf-idf featurizer.')\n",
    "tfidf_featurizer.fit_transform(df)\n",
    "\n",
    "print('Featurizing training set.')\n",
    "tfidf_train = tfidf_featurizer.transform(df_train)\n",
    "n_train = tfidf_train.shape[0]\n",
    "print('Shape:', tfidf_train.shape)\n",
    "\n",
    "print('Featurizing validation set.')\n",
    "tfidf_val = tfidf_featurizer.transform(df_val)\n",
    "n_val = tfidf_val.shape[0]\n",
    "print('Shape:', tfidf_val.shape)\n",
    "\n",
    "print('Featurizing test set.')\n",
    "tfidf_test = tfidf_featurizer.transform(df_test)\n",
    "n_test = tfidf_test.shape[0]\n",
    "print('Shape:', tfidf_test.shape)"
   ]
  },
  {
   "cell_type": "code",
   "execution_count": 4,
   "metadata": {
    "collapsed": true
   },
   "outputs": [],
   "source": [
    "matrix_train = tfidf_train\n",
    "matrix_val   = tfidf_val\n",
    "matrix_test  = tfidf_test"
   ]
  },
  {
   "cell_type": "markdown",
   "metadata": {},
   "source": [
    "### Configure labels"
   ]
  },
  {
   "cell_type": "code",
   "execution_count": 5,
   "metadata": {
    "collapsed": true
   },
   "outputs": [],
   "source": [
    "target_class = 'bad'\n",
    "\n",
    "labels_train = np.array(df_train[target_class])\n",
    "labels_val = np.array(df_val[target_class])\n",
    "labels_test = np.array(df_test[target_class])"
   ]
  },
  {
   "cell_type": "markdown",
   "metadata": {},
   "source": [
    "### Tune logistic regression"
   ]
  },
  {
   "cell_type": "code",
   "execution_count": 6,
   "metadata": {
    "collapsed": false
   },
   "outputs": [
    {
     "name": "stdout",
     "output_type": "stream",
     "text": [
      "regularization strength: 0.01 | validation set accuracy: 0.7085\n",
      "regularization strength: 0.1 | validation set accuracy: 0.7205\n",
      "regularization strength: 1.0 | validation set accuracy: 0.72175\n",
      "regularization strength: 10 | validation set accuracy: 0.719\n",
      "regularization strength: 100 | validation set accuracy: 0.71925\n"
     ]
    }
   ],
   "source": [
    "def make_rand_range(start, end, n):\n",
    "    rr = []\n",
    "    for _ in xrange(n):\n",
    "        rr.append(start + (abs(end - start) * random.random()))\n",
    "    return sorted(rr)\n",
    "\n",
    "reg_str = [0.01, 0.1, 1.0, 10, 100]\n",
    "best_val_acc = -1.0\n",
    "best_c = None\n",
    "\n",
    "for c in reg_str:\n",
    "    lr = LogisticRegression(penalty='l2', C=c, n_jobs=-1)\n",
    "    lr.fit(matrix_train, labels_train)\n",
    "    preds = lr.predict(matrix_val)\n",
    "    acc = np.mean(preds == labels_val)\n",
    "    print('regularization strength:', c, '|', 'validation set accuracy:', acc)\n",
    "    if acc > best_val_acc:\n",
    "        best_val_acc = acc\n",
    "        best_c = c"
   ]
  },
  {
   "cell_type": "code",
   "execution_count": 7,
   "metadata": {
    "collapsed": false
   },
   "outputs": [
    {
     "name": "stdout",
     "output_type": "stream",
     "text": [
      "regularization strength: 0.0495834245894 | validation set accuracy: 0.71675\n",
      "regularization strength: 0.156448913883 | validation set accuracy: 0.7225\n",
      "regularization strength: 0.215554089087 | validation set accuracy: 0.72325\n",
      "regularization strength: 0.241600819913 | validation set accuracy: 0.72375\n",
      "regularization strength: 0.382923435949 | validation set accuracy: 0.722\n",
      "regularization strength: 0.698606808932 | validation set accuracy: 0.72175\n",
      "regularization strength: 1.21522954187 | validation set accuracy: 0.72175\n",
      "regularization strength: 1.50512926684 | validation set accuracy: 0.7205\n",
      "regularization strength: 1.74425164826 | validation set accuracy: 0.72075\n",
      "regularization strength: 2.11237507209 | validation set accuracy: 0.721\n",
      "regularization strength: 2.29309690133 | validation set accuracy: 0.72125\n",
      "regularization strength: 2.5095753331 | validation set accuracy: 0.7215\n",
      "regularization strength: 2.92222941425 | validation set accuracy: 0.72075\n",
      "regularization strength: 3.14116537601 | validation set accuracy: 0.721\n",
      "regularization strength: 3.5139412572 | validation set accuracy: 0.72125\n",
      "regularization strength: 3.85401493513 | validation set accuracy: 0.721\n",
      "regularization strength: 4.10587704132 | validation set accuracy: 0.72075\n",
      "regularization strength: 4.42501473695 | validation set accuracy: 0.72075\n",
      "regularization strength: 4.79469905523 | validation set accuracy: 0.72\n",
      "regularization strength: 4.97158193401 | validation set accuracy: 0.72\n",
      "regularization strength: 5.60139139842 | validation set accuracy: 0.7195\n",
      "regularization strength: 6.02779307342 | validation set accuracy: 0.7195\n",
      "regularization strength: 6.27950178608 | validation set accuracy: 0.71975\n",
      "regularization strength: 6.59114717977 | validation set accuracy: 0.71975\n",
      "regularization strength: 6.88559353814 | validation set accuracy: 0.71975\n",
      "regularization strength: 7.26025173391 | validation set accuracy: 0.71975\n",
      "regularization strength: 7.51990120231 | validation set accuracy: 0.7195\n",
      "regularization strength: 8.19675863184 | validation set accuracy: 0.719\n",
      "regularization strength: 8.47233461439 | validation set accuracy: 0.719\n",
      "regularization strength: 8.78839035062 | validation set accuracy: 0.719\n",
      "regularization strength: 9.07003699219 | validation set accuracy: 0.719\n",
      "regularization strength: 9.32060647059 | validation set accuracy: 0.719\n",
      "regularization strength: 9.66790253765 | validation set accuracy: 0.719\n"
     ]
    }
   ],
   "source": [
    "reg_str = make_rand_range(0, 10, 300)\n",
    "\n",
    "for t, c in enumerate(reg_str):\n",
    "    should_print = False\n",
    "    lr = LogisticRegression(penalty='l2', C=c, n_jobs=-1)\n",
    "    lr.fit(matrix_train, labels_train)\n",
    "    preds = lr.predict(matrix_val)\n",
    "    acc = np.mean(preds == labels_val)\n",
    "    if acc > best_val_acc:\n",
    "        best_val_acc = acc\n",
    "        best_c = c\n",
    "        should_print = True\n",
    "    if t % 10 == 0 or should_print:\n",
    "        print('regularization strength:', c, '|', 'validation set accuracy:', acc)"
   ]
  },
  {
   "cell_type": "markdown",
   "metadata": {},
   "source": [
    "### Evaluate model on test set"
   ]
  },
  {
   "cell_type": "code",
   "execution_count": 8,
   "metadata": {
    "collapsed": false
   },
   "outputs": [
    {
     "name": "stdout",
     "output_type": "stream",
     "text": [
      "final test set accuracy: 0.7205\n"
     ]
    }
   ],
   "source": [
    "matrix_train_val = np.vstack([matrix_train, matrix_val])\n",
    "labels_train_val = np.hstack([labels_train, labels_val])\n",
    "\n",
    "lr = LogisticRegression(penalty='l2', C=best_c, n_jobs=-1)\n",
    "lr.fit(matrix_train_val, labels_train_val)\n",
    "preds_test = lr.predict(matrix_test)\n",
    "acc_test = np.mean(preds_test == labels_test)\n",
    "\n",
    "print('final test set accuracy:', acc_test)"
   ]
  },
  {
   "cell_type": "markdown",
   "metadata": {},
   "source": [
    "### Visualize results"
   ]
  },
  {
   "cell_type": "code",
   "execution_count": 9,
   "metadata": {
    "collapsed": false
   },
   "outputs": [
    {
     "data": {
      "image/png": "[encoded data removed]",
      "text/plain": [
       "<matplotlib.figure.Figure at 0x10b208cd0>"
      ]
     },
     "metadata": {},
     "output_type": "display_data"
    }
   ],
   "source": [
    "preds_probs = lr.predict_proba(matrix_test)\n",
    "\n",
    "fpr, tpr, _ = roc_curve(labels_test, preds_probs[:, 1])\n",
    "roc_auc = auc(fpr, tpr)\n",
    "\n",
    "plt.figure()\n",
    "lw = 2\n",
    "plt.plot(fpr, tpr, color='darkorange',\n",
    "         lw=lw, label='ROC curve (area = %0.2f)' % roc_auc)\n",
    "plt.plot([0, 1], [0, 1], color='navy', lw=lw, linestyle='--')\n",
    "plt.xlim([0.0, 1.0])\n",
    "plt.ylim([0.0, 1.05])\n",
    "plt.xlabel('False Positive Rate')\n",
    "plt.ylabel('True Positive Rate')\n",
    "plt.title('ROC Curve')\n",
    "plt.legend(loc=\"lower right\")\n",
    "plt.show()"
   ]
  }
 ],
 "metadata": {
  "kernelspec": {
   "display_name": "Python 2",
   "language": "python",
   "name": "python2"
  },
  "language_info": {
   "codemirror_mode": {
    "name": "ipython",
    "version": 2
   },
   "file_extension": ".py",
   "mimetype": "text/x-python",
   "name": "python",
   "nbconvert_exporter": "python",
   "pygments_lexer": "ipython2",
   "version": "2.7.12"
  }
 },
 "nbformat": 4,
 "nbformat_minor": 1
}
