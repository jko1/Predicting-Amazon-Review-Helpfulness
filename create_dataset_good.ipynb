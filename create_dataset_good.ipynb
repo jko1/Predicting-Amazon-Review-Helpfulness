{
 "cells": [
  {
   "cell_type": "markdown",
   "metadata": {},
   "source": [
    "### Organize imports"
   ]
  },
  {
   "cell_type": "code",
   "execution_count": 1,
   "metadata": {
    "collapsed": false
   },
   "outputs": [],
   "source": [
    "import json\n",
    "import pandas as pd\n",
    "import nltk\n",
    "from nltk import word_tokenize\n",
    "from nltk.corpus import stopwords\n",
    "import numpy as np\n",
    "import random\n",
    "import re\n",
    "import string"
   ]
  },
  {
   "cell_type": "markdown",
   "metadata": {},
   "source": [
    "### Set parameters"
   ]
  },
  {
   "cell_type": "code",
   "execution_count": 2,
   "metadata": {
    "collapsed": true
   },
   "outputs": [],
   "source": [
    "num_good = 100000\n",
    "num_bad = 50000\n",
    "num_neutral = 50000\n",
    "dataset_src_fn = 'data/amazon_dataset_deskewed.json'\n",
    "final_df_name = 'data/full_cols_good.csv'"
   ]
  },
  {
   "cell_type": "markdown",
   "metadata": {},
   "source": [
    "### Load full dataset"
   ]
  },
  {
   "cell_type": "code",
   "execution_count": 3,
   "metadata": {
    "collapsed": false
   },
   "outputs": [
    {
     "name": "stdout",
     "output_type": "stream",
     "text": [
      "Creating dataframe...\n"
     ]
    },
    {
     "data": {
      "text/html": [
       "<div>\n",
       "<table border=\"1\" class=\"dataframe\">\n",
       "  <thead>\n",
       "    <tr style=\"text-align: right;\">\n",
       "      <th></th>\n",
       "      <th>reviewer_id</th>\n",
       "      <th>asin</th>\n",
       "      <th>review_text</th>\n",
       "      <th>overall</th>\n",
       "      <th>category</th>\n",
       "      <th>good</th>\n",
       "      <th>bad</th>\n",
       "    </tr>\n",
       "  </thead>\n",
       "  <tbody>\n",
       "    <tr>\n",
       "      <th>0</th>\n",
       "      <td>A2R1HAXRNU0QX7</td>\n",
       "      <td>B00164KYV4</td>\n",
       "      <td>MILDLY entertaining, but most of the cast look...</td>\n",
       "      <td>2.0</td>\n",
       "      <td>15</td>\n",
       "      <td>0</td>\n",
       "      <td>0</td>\n",
       "    </tr>\n",
       "    <tr>\n",
       "      <th>1</th>\n",
       "      <td>A1UNXGWM0060AG</td>\n",
       "      <td>0385503245</td>\n",
       "      <td>Read this Book in 2008 Now that the Bush years...</td>\n",
       "      <td>5.0</td>\n",
       "      <td>5</td>\n",
       "      <td>0</td>\n",
       "      <td>0</td>\n",
       "    </tr>\n",
       "    <tr>\n",
       "      <th>2</th>\n",
       "      <td>A23OKAR1PGMXSK</td>\n",
       "      <td>B00006GOEN</td>\n",
       "      <td>Typical Kim! If you like Kim Waters, you'll lo...</td>\n",
       "      <td>5.0</td>\n",
       "      <td>6</td>\n",
       "      <td>0</td>\n",
       "      <td>0</td>\n",
       "    </tr>\n",
       "    <tr>\n",
       "      <th>3</th>\n",
       "      <td>A1DDUZPQTCV04O</td>\n",
       "      <td>B0059DLLJC</td>\n",
       "      <td>Deluxe black i4 cover Gave this to my wife and...</td>\n",
       "      <td>5.0</td>\n",
       "      <td>7</td>\n",
       "      <td>0</td>\n",
       "      <td>0</td>\n",
       "    </tr>\n",
       "    <tr>\n",
       "      <th>4</th>\n",
       "      <td>A3JBJSKB2HG6FH</td>\n",
       "      <td>0446580074</td>\n",
       "      <td>An interesting little book I was intrigued by ...</td>\n",
       "      <td>4.0</td>\n",
       "      <td>5</td>\n",
       "      <td>1</td>\n",
       "      <td>0</td>\n",
       "    </tr>\n",
       "  </tbody>\n",
       "</table>\n",
       "</div>"
      ],
      "text/plain": [
       "      reviewer_id        asin  \\\n",
       "0  A2R1HAXRNU0QX7  B00164KYV4   \n",
       "1  A1UNXGWM0060AG  0385503245   \n",
       "2  A23OKAR1PGMXSK  B00006GOEN   \n",
       "3  A1DDUZPQTCV04O  B0059DLLJC   \n",
       "4  A3JBJSKB2HG6FH  0446580074   \n",
       "\n",
       "                                         review_text  overall  category  good  \\\n",
       "0  MILDLY entertaining, but most of the cast look...      2.0        15     0   \n",
       "1  Read this Book in 2008 Now that the Bush years...      5.0         5     0   \n",
       "2  Typical Kim! If you like Kim Waters, you'll lo...      5.0         6     0   \n",
       "3  Deluxe black i4 cover Gave this to my wife and...      5.0         7     0   \n",
       "4  An interesting little book I was intrigued by ...      4.0         5     1   \n",
       "\n",
       "   bad  \n",
       "0    0  \n",
       "1    0  \n",
       "2    0  \n",
       "3    0  \n",
       "4    0  "
      ]
     },
     "execution_count": 3,
     "metadata": {},
     "output_type": "execute_result"
    }
   ],
   "source": [
    "category_map = {\n",
    "    \"Amazon_Instant_Video\" : 0,\n",
    "    \"Apps_for_Android\" : 1,\n",
    "    \"Automotive\" : 2,\n",
    "    \"Baby\" : 3,\n",
    "    \"Beauty\" : 4,\n",
    "    \"Books\" : 5,\n",
    "    \"CDs_and_Vinyl\" : 6,\n",
    "    \"Cell_Phones_and_Accessories\" : 7,\n",
    "    \"Clothing_Shoes_and_Jewelry\" : 8,\n",
    "    \"Digital_Music\" : 9,\n",
    "    \"Electronics\" : 10,\n",
    "    \"Grocery_and_Gourmet_Food\" : 11,\n",
    "    \"Health_and_Personal_Care\" : 12,\n",
    "    \"Home_and_Kitchen\" : 13,\n",
    "    \"Kindle_Store\" : 14,\n",
    "    \"Movies_and_TV\" : 15,\n",
    "    \"Musical_Instruments\" : 16,\n",
    "    \"Office_Products\" : 17,\n",
    "    \"Patio_Lawn_and_Garden\" : 18,\n",
    "    \"Pet_Supplies\" : 19,\n",
    "    \"Sports_and_Outdoors\" : 20,\n",
    "    \"Tools_and_Home_Improvement\" : 21,\n",
    "    \"Toys_and_Games\" : 22,\n",
    "    \"Video_Games\" : 23\n",
    "}\n",
    "\n",
    "col_names = [\"reviewer_id\", \"asin\", \"review_text\", \"overall\", \"category\", \n",
    "             \"good\", \"bad\"]\n",
    "\n",
    "def read_dataset(fn):\n",
    "    data = []\n",
    "    with open(fn) as f:\n",
    "        for line in f:\n",
    "            d = json.loads(line)\n",
    "            pf, tf = d[\"helpful\"]\n",
    "            score = (1.0 * pf) / (1.0 * tf)\n",
    "            row = [d[\"reviewerID\"], \n",
    "                   d[\"asin\"], \n",
    "                   d[\"summary\"] + ' ' + d[\"reviewText\"],\n",
    "                   d[\"overall\"],\n",
    "                   category_map[d[\"category\"]],\n",
    "                   int(score > 0.80),\n",
    "                   int(score <= 0.20)]\n",
    "            data.append(row)\n",
    "    return pd.DataFrame(data, columns=col_names)\n",
    "\n",
    "print 'Creating dataframe...'\n",
    "df = read_dataset(dataset_src_fn)\n",
    "df = df.sample(frac=1).reset_index(drop=True) # Randomize entry order\n",
    "df.head()"
   ]
  },
  {
   "cell_type": "markdown",
   "metadata": {},
   "source": [
    "### Prune dataset"
   ]
  },
  {
   "cell_type": "code",
   "execution_count": 4,
   "metadata": {
    "collapsed": false
   },
   "outputs": [
    {
     "name": "stdout",
     "output_type": "stream",
     "text": [
      "100000 50000 50000\n"
     ]
    }
   ],
   "source": [
    "df_good = df.loc[df['good'] == 1]\n",
    "df_good = df_good.sample(frac=1).reset_index(drop=True)\n",
    "df_good.drop(df_good.index[num_good:], inplace=True)\n",
    "\n",
    "df_bad = df.loc[df['bad'] == 1]\n",
    "df_bad = df_bad.sample(frac=1).reset_index(drop=True)\n",
    "df_bad.drop(df_bad.index[num_bad:], inplace=True)\n",
    "\n",
    "df_neutral = df.loc[(df['good'] == 0) & (df['bad'] == 0)]\n",
    "df_neutral = df_neutral.sample(frac=1).reset_index(drop=True)\n",
    "df_neutral.drop(df_neutral.index[num_neutral:], inplace=True)\n",
    "\n",
    "print len(df_good), len(df_bad), len(df_neutral)"
   ]
  },
  {
   "cell_type": "code",
   "execution_count": 5,
   "metadata": {
    "collapsed": false
   },
   "outputs": [
    {
     "name": "stdout",
     "output_type": "stream",
     "text": [
      "Number of entries: 200000\n",
      "Good count: 100000\n",
      "Bad count: 50000\n",
      "Neutral count: 50000\n"
     ]
    },
    {
     "data": {
      "text/html": [
       "<div>\n",
       "<table border=\"1\" class=\"dataframe\">\n",
       "  <thead>\n",
       "    <tr style=\"text-align: right;\">\n",
       "      <th></th>\n",
       "      <th>reviewer_id</th>\n",
       "      <th>asin</th>\n",
       "      <th>review_text</th>\n",
       "      <th>overall</th>\n",
       "      <th>category</th>\n",
       "      <th>good</th>\n",
       "      <th>bad</th>\n",
       "    </tr>\n",
       "  </thead>\n",
       "  <tbody>\n",
       "    <tr>\n",
       "      <th>0</th>\n",
       "      <td>A3HTJCBIBFC7T1</td>\n",
       "      <td>B000AGTQ6I</td>\n",
       "      <td>review from Synthesis I hate to be so harsh, b...</td>\n",
       "      <td>2.0</td>\n",
       "      <td>6</td>\n",
       "      <td>0</td>\n",
       "      <td>1</td>\n",
       "    </tr>\n",
       "    <tr>\n",
       "      <th>1</th>\n",
       "      <td>ALT2A9MX3JAHP</td>\n",
       "      <td>1400044529</td>\n",
       "      <td>Tedious and annoying. Major  disappointment. I...</td>\n",
       "      <td>1.0</td>\n",
       "      <td>5</td>\n",
       "      <td>0</td>\n",
       "      <td>0</td>\n",
       "    </tr>\n",
       "    <tr>\n",
       "      <th>2</th>\n",
       "      <td>AIOFTQ4CTTRKO</td>\n",
       "      <td>B00328HR7G</td>\n",
       "      <td>Very good pocket camcorder, horrible camera I ...</td>\n",
       "      <td>2.0</td>\n",
       "      <td>10</td>\n",
       "      <td>0</td>\n",
       "      <td>0</td>\n",
       "    </tr>\n",
       "    <tr>\n",
       "      <th>3</th>\n",
       "      <td>A3EETNC94DQT9Y</td>\n",
       "      <td>B0002TFZBI</td>\n",
       "      <td>A Trainwreck Failure By An Untalented Fake! Hi...</td>\n",
       "      <td>1.0</td>\n",
       "      <td>6</td>\n",
       "      <td>0</td>\n",
       "      <td>1</td>\n",
       "    </tr>\n",
       "    <tr>\n",
       "      <th>4</th>\n",
       "      <td>ATLUWL6MV3YBY</td>\n",
       "      <td>B00005J4HH</td>\n",
       "      <td>ART ROCK LIVES I heard this album by accident ...</td>\n",
       "      <td>4.0</td>\n",
       "      <td>6</td>\n",
       "      <td>1</td>\n",
       "      <td>0</td>\n",
       "    </tr>\n",
       "  </tbody>\n",
       "</table>\n",
       "</div>"
      ],
      "text/plain": [
       "      reviewer_id        asin  \\\n",
       "0  A3HTJCBIBFC7T1  B000AGTQ6I   \n",
       "1   ALT2A9MX3JAHP  1400044529   \n",
       "2   AIOFTQ4CTTRKO  B00328HR7G   \n",
       "3  A3EETNC94DQT9Y  B0002TFZBI   \n",
       "4   ATLUWL6MV3YBY  B00005J4HH   \n",
       "\n",
       "                                         review_text  overall  category  good  \\\n",
       "0  review from Synthesis I hate to be so harsh, b...      2.0         6     0   \n",
       "1  Tedious and annoying. Major  disappointment. I...      1.0         5     0   \n",
       "2  Very good pocket camcorder, horrible camera I ...      2.0        10     0   \n",
       "3  A Trainwreck Failure By An Untalented Fake! Hi...      1.0         6     0   \n",
       "4  ART ROCK LIVES I heard this album by accident ...      4.0         6     1   \n",
       "\n",
       "   bad  \n",
       "0    1  \n",
       "1    0  \n",
       "2    0  \n",
       "3    1  \n",
       "4    0  "
      ]
     },
     "execution_count": 5,
     "metadata": {},
     "output_type": "execute_result"
    }
   ],
   "source": [
    "df_min = pd.concat([df_good, df_bad, df_neutral], axis=0, join='outer', ignore_index=True)\n",
    "df_min = df_min.sample(frac=1).reset_index(drop=True)\n",
    "del df, df_good, df_bad, df_neutral # Free memory\n",
    "print \"Number of entries:\", len(df_min)\n",
    "print \"Good count:\", len(df_min.loc[df_min['good'] == 1])\n",
    "print \"Bad count:\", len(df_min.loc[df_min['bad'] == 1])\n",
    "print \"Neutral count:\", len(df_min.loc[(df_min['good'] == 0) & (df_min['bad'] == 0)])\n",
    "df_min.head()"
   ]
  },
  {
   "cell_type": "markdown",
   "metadata": {},
   "source": [
    "### Normalize review text"
   ]
  },
  {
   "cell_type": "code",
   "execution_count": 10,
   "metadata": {
    "collapsed": false
   },
   "outputs": [
    {
     "name": "stdout",
     "output_type": "stream",
     "text": [
      "Entry 1/200000.\n",
      "Entry 10001/200000.\n",
      "Entry 20001/200000.\n",
      "Entry 30001/200000.\n",
      "Entry 40001/200000.\n",
      "Entry 50001/200000.\n",
      "Entry 60001/200000.\n",
      "Entry 70001/200000.\n",
      "Entry 80001/200000.\n",
      "Entry 90001/200000.\n",
      "Entry 100001/200000.\n",
      "Entry 110001/200000.\n",
      "Entry 120001/200000.\n",
      "Entry 130001/200000.\n",
      "Entry 140001/200000.\n",
      "Entry 150001/200000.\n",
      "Entry 160001/200000.\n",
      "Entry 170001/200000.\n",
      "Entry 180001/200000.\n",
      "Entry 190001/200000.\n",
      "Entry 200000/200000.\n",
      "Finished pre-processing review text.\n"
     ]
    }
   ],
   "source": [
    "stop_words = stopwords.words('english')\n",
    "word_pattern = re.compile(\"[A-Za-z]+\")\n",
    "n_entries = len(df_min)\n",
    "df_norm = pd.DataFrame(columns=col_names, index=range(n_entries))\n",
    "\n",
    "def normalize_review_text(text):\n",
    "    def norm_filter(w):\n",
    "        return w not in stop_words and \\\n",
    "               len(w) > 2\n",
    "    tokens = nltk.regexp_tokenize(text.lower(), word_pattern)\n",
    "    return ' '.join(filter(norm_filter, tokens))\n",
    "\n",
    "for idx in xrange(n_entries):\n",
    "    row = df_min.iloc[idx]\n",
    "    norm_text = normalize_review_text(row['review_text'])\n",
    "    df_norm.iloc[idx] = [\n",
    "        row['reviewer_id'],\n",
    "        row['asin'],\n",
    "        norm_text,\n",
    "        row['overall'],\n",
    "        row['category'],\n",
    "        row['good'],\n",
    "        row['bad']\n",
    "    ]\n",
    "    if idx % 10000 == 0 or idx + 1 == n_entries:\n",
    "        print 'Entry ' + str(idx + 1) + '/' + str(n_entries) + '.'\n",
    "\n",
    "print \"Finished pre-processing review text.\""
   ]
  },
  {
   "cell_type": "code",
   "execution_count": 11,
   "metadata": {
    "collapsed": false
   },
   "outputs": [
    {
     "name": "stdout",
     "output_type": "stream",
     "text": [
      "Saved to disk!\n"
     ]
    }
   ],
   "source": [
    "df_norm.to_csv(path_or_buf=final_df_name, sep='|')\n",
    "print \"Saved to disk!\""
   ]
  }
 ],
 "metadata": {
  "kernelspec": {
   "display_name": "Python 2",
   "language": "python",
   "name": "python2"
  },
  "language_info": {
   "codemirror_mode": {
    "name": "ipython",
    "version": 2
   },
   "file_extension": ".py",
   "mimetype": "text/x-python",
   "name": "python",
   "nbconvert_exporter": "python",
   "pygments_lexer": "ipython2",
   "version": "2.7.12"
  }
 },
 "nbformat": 4,
 "nbformat_minor": 1
}
