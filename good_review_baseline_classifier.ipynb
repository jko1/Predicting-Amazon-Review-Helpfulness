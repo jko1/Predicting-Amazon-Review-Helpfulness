{
 "cells": [
  {
   "cell_type": "markdown",
   "metadata": {},
   "source": [
    "## Classifying Good Product Reviews: Baseline Model\n",
    "\n",
    "**Team J Cubed**: James Wei, Jessica Ko, Jay Patel\n",
    "\n",
    "CS 294-129, Fall 2016"
   ]
  },
  {
   "cell_type": "markdown",
   "metadata": {},
   "source": [
    "### Organize imports"
   ]
  },
  {
   "cell_type": "code",
   "execution_count": 1,
   "metadata": {
    "collapsed": true
   },
   "outputs": [],
   "source": [
    "from __future__ import division, print_function, absolute_import\n",
    "from sklearn.feature_extraction.text import *\n",
    "from sklearn.linear_model import LogisticRegression\n",
    "from sklearn.metrics import roc_curve, auc\n",
    "from sklearn.model_selection import train_test_split\n",
    "\n",
    "import matplotlib.pyplot as plt\n",
    "%matplotlib inline\n",
    "import numpy as np\n",
    "import pandas as pd\n",
    "import random\n",
    "import sklearn\n",
    "import string"
   ]
  },
  {
   "cell_type": "markdown",
   "metadata": {},
   "source": [
    "### Load and split dataset\n",
    "\n",
    "Note that the 'review_text' field in the dataset has already been normalized (removed capitalization, punctuation, and stopwords)."
   ]
  },
  {
   "cell_type": "code",
   "execution_count": 2,
   "metadata": {
    "collapsed": false
   },
   "outputs": [
    {
     "data": {
      "text/html": [
       "<div>\n",
       "<table border=\"1\" class=\"dataframe\">\n",
       "  <thead>\n",
       "    <tr style=\"text-align: right;\">\n",
       "      <th></th>\n",
       "      <th>reviewer_id</th>\n",
       "      <th>asin</th>\n",
       "      <th>review_text</th>\n",
       "      <th>overall</th>\n",
       "      <th>category</th>\n",
       "      <th>good</th>\n",
       "      <th>bad</th>\n",
       "    </tr>\n",
       "  </thead>\n",
       "  <tbody>\n",
       "    <tr>\n",
       "      <th>0</th>\n",
       "      <td>A1DE6GXMW2FMAJ</td>\n",
       "      <td>B003PFGSVW</td>\n",
       "      <td>serious percussion someone small size absolute...</td>\n",
       "      <td>5.0</td>\n",
       "      <td>12</td>\n",
       "      <td>1</td>\n",
       "      <td>0</td>\n",
       "    </tr>\n",
       "    <tr>\n",
       "      <th>1</th>\n",
       "      <td>AHV1ZKIVZKBUC</td>\n",
       "      <td>6302533953</td>\n",
       "      <td>soso liked flim realistic excellent plot actin...</td>\n",
       "      <td>3.0</td>\n",
       "      <td>15</td>\n",
       "      <td>0</td>\n",
       "      <td>1</td>\n",
       "    </tr>\n",
       "    <tr>\n",
       "      <th>2</th>\n",
       "      <td>A3GSPI69JGM5W9</td>\n",
       "      <td>0465013058</td>\n",
       "      <td>depth analysis state scientific awareness unsc...</td>\n",
       "      <td>4.0</td>\n",
       "      <td>5</td>\n",
       "      <td>0</td>\n",
       "      <td>0</td>\n",
       "    </tr>\n",
       "    <tr>\n",
       "      <th>3</th>\n",
       "      <td>A26S6MNOJ27EBE</td>\n",
       "      <td>080652071X</td>\n",
       "      <td>help bos pretty new craft almost years wicca b...</td>\n",
       "      <td>4.0</td>\n",
       "      <td>5</td>\n",
       "      <td>1</td>\n",
       "      <td>0</td>\n",
       "    </tr>\n",
       "    <tr>\n",
       "      <th>4</th>\n",
       "      <td>AGL4RFFH4UZBH</td>\n",
       "      <td>1477808620</td>\n",
       "      <td>author research correctly roanoak virginia mid...</td>\n",
       "      <td>1.0</td>\n",
       "      <td>5</td>\n",
       "      <td>0</td>\n",
       "      <td>0</td>\n",
       "    </tr>\n",
       "  </tbody>\n",
       "</table>\n",
       "</div>"
      ],
      "text/plain": [
       "      reviewer_id        asin  \\\n",
       "0  A1DE6GXMW2FMAJ  B003PFGSVW   \n",
       "1   AHV1ZKIVZKBUC  6302533953   \n",
       "2  A3GSPI69JGM5W9  0465013058   \n",
       "3  A26S6MNOJ27EBE  080652071X   \n",
       "4   AGL4RFFH4UZBH  1477808620   \n",
       "\n",
       "                                         review_text  overall  category  good  \\\n",
       "0  serious percussion someone small size absolute...      5.0        12     1   \n",
       "1  soso liked flim realistic excellent plot actin...      3.0        15     0   \n",
       "2  depth analysis state scientific awareness unsc...      4.0         5     0   \n",
       "3  help bos pretty new craft almost years wicca b...      4.0         5     1   \n",
       "4  author research correctly roanoak virginia mid...      1.0         5     0   \n",
       "\n",
       "   bad  \n",
       "0    0  \n",
       "1    1  \n",
       "2    0  \n",
       "3    0  \n",
       "4    0  "
      ]
     },
     "execution_count": 2,
     "metadata": {},
     "output_type": "execute_result"
    }
   ],
   "source": [
    "def split_train_test(df, test_size):\n",
    "    train, test = train_test_split(df, test_size=test_size, random_state=random.randint(0, 99))\n",
    "    train.reset_index(drop=True, inplace=True)\n",
    "    test.reset_index(drop=True, inplace=True)\n",
    "    return train, test\n",
    "\n",
    "dataset_path = 'data/supermin_good_20k_fullcols.csv' # Minimized dataset\n",
    "\n",
    "df = pd.read_csv(dataset_path, sep='|', index_col=0)\n",
    "\n",
    "# Training: 60%, Validation: 20%, Testing: 20%\n",
    "df_train, df_test = split_train_test(df, 0.200)\n",
    "df_train, df_val = split_train_test(df_train, 0.250)\n",
    "\n",
    "df_train.head()"
   ]
  },
  {
   "cell_type": "markdown",
   "metadata": {},
   "source": [
    "### Featurize"
   ]
  },
  {
   "cell_type": "markdown",
   "metadata": {},
   "source": [
    "#### tf-idf"
   ]
  },
  {
   "cell_type": "code",
   "execution_count": 3,
   "metadata": {
    "collapsed": false
   },
   "outputs": [
    {
     "name": "stdout",
     "output_type": "stream",
     "text": [
      "Fitting tf-idf featurizer.\n",
      "Featurizing training set.\n",
      "Shape: (12000, 300)\n",
      "Featurizing validation set.\n",
      "Shape: (4000, 300)\n",
      "Featurizing test set.\n",
      "Shape: (4000, 300)\n"
     ]
    }
   ],
   "source": [
    "class TfidfFeaturizer(object):\n",
    "    def __init__(self, col_name='review_text', max_features=1000):\n",
    "        self.col_name = col_name\n",
    "        self.max_features = max_features\n",
    "        self.vectorizer = None\n",
    "        \n",
    "    def fit_transform(self, df):\n",
    "        docs = self.__create_doc_list(df)\n",
    "        self.vectorizer = TfidfVectorizer(\n",
    "            ngram_range=(1,3),\n",
    "            max_features=self.max_features\n",
    "        )\n",
    "        return (self.vectorizer.fit_transform(docs)).toarray()\n",
    "\n",
    "    def transform(self, df):\n",
    "        if self.vectorizer is not None:\n",
    "            docs = self.__create_doc_list(df)\n",
    "            return (self.vectorizer.transform(docs)).toarray()\n",
    "        else:\n",
    "            return None\n",
    "\n",
    "    def __create_doc_list(self, df):\n",
    "        return df[self.col_name].tolist()\n",
    "\n",
    "n_tfidf_features = 300\n",
    "tfidf_featurizer = TfidfFeaturizer(max_features=n_tfidf_features)\n",
    "\n",
    "print('Fitting tf-idf featurizer.')\n",
    "tfidf_featurizer.fit_transform(df)\n",
    "\n",
    "print('Featurizing training set.')\n",
    "tfidf_train = tfidf_featurizer.transform(df_train)\n",
    "n_train = tfidf_train.shape[0]\n",
    "print('Shape:', tfidf_train.shape)\n",
    "\n",
    "print('Featurizing validation set.')\n",
    "tfidf_val = tfidf_featurizer.transform(df_val)\n",
    "n_val = tfidf_val.shape[0]\n",
    "print('Shape:', tfidf_val.shape)\n",
    "\n",
    "print('Featurizing test set.')\n",
    "tfidf_test = tfidf_featurizer.transform(df_test)\n",
    "n_test = tfidf_test.shape[0]\n",
    "print('Shape:', tfidf_test.shape)"
   ]
  },
  {
   "cell_type": "code",
   "execution_count": 4,
   "metadata": {
    "collapsed": true
   },
   "outputs": [],
   "source": [
    "matrix_train = tfidf_train\n",
    "matrix_val   = tfidf_val\n",
    "matrix_test  = tfidf_test"
   ]
  },
  {
   "cell_type": "markdown",
   "metadata": {},
   "source": [
    "### Configure labels"
   ]
  },
  {
   "cell_type": "code",
   "execution_count": 5,
   "metadata": {
    "collapsed": true
   },
   "outputs": [],
   "source": [
    "target_class = 'good'\n",
    "\n",
    "labels_train = np.array(df_train[target_class])\n",
    "labels_val = np.array(df_val[target_class])\n",
    "labels_test = np.array(df_test[target_class])"
   ]
  },
  {
   "cell_type": "markdown",
   "metadata": {},
   "source": [
    "### Tune logistic regression"
   ]
  },
  {
   "cell_type": "code",
   "execution_count": 6,
   "metadata": {
    "collapsed": false
   },
   "outputs": [
    {
     "name": "stdout",
     "output_type": "stream",
     "text": [
      "regularization strength: 0.01 | validation set accuracy: 0.742\n",
      "regularization strength: 0.1 | validation set accuracy: 0.74875\n",
      "regularization strength: 1.0 | validation set accuracy: 0.7445\n",
      "regularization strength: 10 | validation set accuracy: 0.74375\n",
      "regularization strength: 100 | validation set accuracy: 0.743\n"
     ]
    }
   ],
   "source": [
    "def make_rand_range(start, end, n):\n",
    "    rr = []\n",
    "    for _ in xrange(n):\n",
    "        rr.append(start + (abs(end - start) * random.random()))\n",
    "    return sorted(rr)\n",
    "\n",
    "reg_str = [0.01, 0.1, 1.0, 10, 100]\n",
    "best_val_acc = -1.0\n",
    "best_c = None\n",
    "\n",
    "for c in reg_str:\n",
    "    lr = LogisticRegression(penalty='l2', C=c, n_jobs=-1)\n",
    "    lr.fit(matrix_train, labels_train)\n",
    "    preds = lr.predict(matrix_val)\n",
    "    acc = np.mean(preds == labels_val)\n",
    "    print('regularization strength:', c, '|', 'validation set accuracy:', acc)\n",
    "    if acc > best_val_acc:\n",
    "        best_val_acc = acc\n",
    "        best_c = c"
   ]
  },
  {
   "cell_type": "code",
   "execution_count": 7,
   "metadata": {
    "collapsed": false
   },
   "outputs": [
    {
     "name": "stdout",
     "output_type": "stream",
     "text": [
      "regularization strength: 0.072869363562 | validation set accuracy: 0.747\n",
      "regularization strength: 0.539835407523 | validation set accuracy: 0.74425\n",
      "regularization strength: 0.884800639629 | validation set accuracy: 0.74475\n",
      "regularization strength: 1.48705486427 | validation set accuracy: 0.74525\n",
      "regularization strength: 2.00649235665 | validation set accuracy: 0.7455\n",
      "regularization strength: 2.49710496361 | validation set accuracy: 0.74525\n",
      "regularization strength: 2.95091452827 | validation set accuracy: 0.74475\n",
      "regularization strength: 3.35722783204 | validation set accuracy: 0.745\n",
      "regularization strength: 3.82624225151 | validation set accuracy: 0.74425\n",
      "regularization strength: 4.23276817618 | validation set accuracy: 0.74425\n",
      "regularization strength: 4.68589394028 | validation set accuracy: 0.74375\n",
      "regularization strength: 5.25125324932 | validation set accuracy: 0.7435\n",
      "regularization strength: 5.69695686877 | validation set accuracy: 0.744\n",
      "regularization strength: 6.10704810328 | validation set accuracy: 0.74375\n",
      "regularization strength: 6.85018781563 | validation set accuracy: 0.744\n",
      "regularization strength: 7.26753166968 | validation set accuracy: 0.744\n",
      "regularization strength: 7.88829815287 | validation set accuracy: 0.744\n",
      "regularization strength: 8.67799163773 | validation set accuracy: 0.744\n",
      "regularization strength: 9.05774662415 | validation set accuracy: 0.744\n",
      "regularization strength: 9.48222185447 | validation set accuracy: 0.744\n"
     ]
    }
   ],
   "source": [
    "reg_str = make_rand_range(0, 10, 300)\n",
    "\n",
    "for t, c in enumerate(reg_str):\n",
    "    should_print = False\n",
    "    lr = LogisticRegression(penalty='l2', C=c, n_jobs=-1)\n",
    "    lr.fit(matrix_train, labels_train)\n",
    "    preds = lr.predict(matrix_val)\n",
    "    acc = np.mean(preds == labels_val)\n",
    "    if acc > best_val_acc:\n",
    "        best_val_acc = acc\n",
    "        best_c = c\n",
    "        should_print = True\n",
    "    if t % 15 == 0 or should_print:\n",
    "        print('regularization strength:', c, '|', 'validation set accuracy:', acc)"
   ]
  },
  {
   "cell_type": "markdown",
   "metadata": {},
   "source": [
    "### Evaluate model on test set"
   ]
  },
  {
   "cell_type": "code",
   "execution_count": 8,
   "metadata": {
    "collapsed": false
   },
   "outputs": [
    {
     "name": "stdout",
     "output_type": "stream",
     "text": [
      "final test set accuracy: 0.74075\n"
     ]
    }
   ],
   "source": [
    "matrix_train_val = np.vstack([matrix_train, matrix_val])\n",
    "labels_train_val = np.hstack([labels_train, labels_val])\n",
    "\n",
    "lr = LogisticRegression(penalty='l2', C=best_c, n_jobs=-1)\n",
    "lr.fit(matrix_train_val, labels_train_val)\n",
    "preds_test = lr.predict(matrix_test)\n",
    "acc_test = np.mean(preds_test == labels_test)\n",
    "\n",
    "print('final test set accuracy:', acc_test)"
   ]
  },
  {
   "cell_type": "markdown",
   "metadata": {},
   "source": [
    "### Visualize results"
   ]
  },
  {
   "cell_type": "code",
   "execution_count": 9,
   "metadata": {
    "collapsed": false
   },
   "outputs": [
    {
     "data": {
      "image/png": "[encoded data removed]",
      "text/plain": [
       "<matplotlib.figure.Figure at 0x1113d4250>"
      ]
     },
     "metadata": {},
     "output_type": "display_data"
    }
   ],
   "source": [
    "preds_probs = lr.predict_proba(matrix_test)\n",
    "\n",
    "fpr, tpr, _ = roc_curve(labels_test, preds_probs[:, 1])\n",
    "roc_auc = auc(fpr, tpr)\n",
    "\n",
    "plt.figure()\n",
    "lw = 2\n",
    "plt.plot(fpr, tpr, color='darkorange',\n",
    "         lw=lw, label='ROC curve (area = %0.2f)' % roc_auc)\n",
    "plt.plot([0, 1], [0, 1], color='navy', lw=lw, linestyle='--')\n",
    "plt.xlim([0.0, 1.0])\n",
    "plt.ylim([0.0, 1.05])\n",
    "plt.xlabel('False Positive Rate')\n",
    "plt.ylabel('True Positive Rate')\n",
    "plt.title('ROC Curve')\n",
    "plt.legend(loc=\"lower right\")\n",
    "plt.show()"
   ]
  }
 ],
 "metadata": {
  "kernelspec": {
   "display_name": "Python 2",
   "language": "python",
   "name": "python2"
  },
  "language_info": {
   "codemirror_mode": {
    "name": "ipython",
    "version": 2
   },
   "file_extension": ".py",
   "mimetype": "text/x-python",
   "name": "python",
   "nbconvert_exporter": "python",
   "pygments_lexer": "ipython2",
   "version": "2.7.12"
  }
 },
 "nbformat": 4,
 "nbformat_minor": 1
}
