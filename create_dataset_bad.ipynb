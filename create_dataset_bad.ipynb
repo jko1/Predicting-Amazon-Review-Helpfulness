{
 "cells": [
  {
   "cell_type": "markdown",
   "metadata": {},
   "source": [
    "### Organize imports"
   ]
  },
  {
   "cell_type": "code",
   "execution_count": 1,
   "metadata": {
    "collapsed": false
   },
   "outputs": [],
   "source": [
    "import json\n",
    "import pandas as pd\n",
    "import nltk\n",
    "from nltk import word_tokenize\n",
    "from nltk.corpus import stopwords\n",
    "import numpy as np\n",
    "import random\n",
    "import re\n",
    "import string"
   ]
  },
  {
   "cell_type": "markdown",
   "metadata": {},
   "source": [
    "### Set parameters"
   ]
  },
  {
   "cell_type": "code",
   "execution_count": 2,
   "metadata": {
    "collapsed": true
   },
   "outputs": [],
   "source": [
    "num_good = 50000\n",
    "num_bad = 100000\n",
    "num_neutral = 50000\n",
    "dataset_src_fn = 'data/amazon_dataset_deskewed.json'\n",
    "final_df_name = 'data/full_cols_bad.csv'"
   ]
  },
  {
   "cell_type": "markdown",
   "metadata": {},
   "source": [
    "### Load full dataset"
   ]
  },
  {
   "cell_type": "code",
   "execution_count": 3,
   "metadata": {
    "collapsed": false
   },
   "outputs": [
    {
     "name": "stdout",
     "output_type": "stream",
     "text": [
      "Creating dataframe...\n"
     ]
    },
    {
     "data": {
      "text/html": [
       "<div>\n",
       "<table border=\"1\" class=\"dataframe\">\n",
       "  <thead>\n",
       "    <tr style=\"text-align: right;\">\n",
       "      <th></th>\n",
       "      <th>reviewer_id</th>\n",
       "      <th>asin</th>\n",
       "      <th>review_text</th>\n",
       "      <th>overall</th>\n",
       "      <th>category</th>\n",
       "      <th>good</th>\n",
       "      <th>bad</th>\n",
       "    </tr>\n",
       "  </thead>\n",
       "  <tbody>\n",
       "    <tr>\n",
       "      <th>0</th>\n",
       "      <td>AA5ZS75RGRYUN</td>\n",
       "      <td>B001CWT4JI</td>\n",
       "      <td>Amazing and Disgusting I bought this product o...</td>\n",
       "      <td>5.0</td>\n",
       "      <td>12</td>\n",
       "      <td>1</td>\n",
       "      <td>0</td>\n",
       "    </tr>\n",
       "    <tr>\n",
       "      <th>1</th>\n",
       "      <td>A2EAG9GXCYXLBZ</td>\n",
       "      <td>0310212472</td>\n",
       "      <td>A Beautifully Written Legend Several years ago...</td>\n",
       "      <td>5.0</td>\n",
       "      <td>5</td>\n",
       "      <td>0</td>\n",
       "      <td>0</td>\n",
       "    </tr>\n",
       "    <tr>\n",
       "      <th>2</th>\n",
       "      <td>A18O7HJIJNTO46</td>\n",
       "      <td>0553270257</td>\n",
       "      <td>Not her best but not bad This book is a pretty...</td>\n",
       "      <td>3.0</td>\n",
       "      <td>5</td>\n",
       "      <td>0</td>\n",
       "      <td>1</td>\n",
       "    </tr>\n",
       "    <tr>\n",
       "      <th>3</th>\n",
       "      <td>A1JBBR4MNGQ70G</td>\n",
       "      <td>1419819100</td>\n",
       "      <td>This train doesn't  seem to know where its goi...</td>\n",
       "      <td>2.0</td>\n",
       "      <td>15</td>\n",
       "      <td>0</td>\n",
       "      <td>0</td>\n",
       "    </tr>\n",
       "    <tr>\n",
       "      <th>4</th>\n",
       "      <td>A1P7S9FE1QPK31</td>\n",
       "      <td>B002NPY7GS</td>\n",
       "      <td>Is Quality Control Slipping? What Is Going On ...</td>\n",
       "      <td>1.0</td>\n",
       "      <td>15</td>\n",
       "      <td>0</td>\n",
       "      <td>0</td>\n",
       "    </tr>\n",
       "  </tbody>\n",
       "</table>\n",
       "</div>"
      ],
      "text/plain": [
       "      reviewer_id        asin  \\\n",
       "0   AA5ZS75RGRYUN  B001CWT4JI   \n",
       "1  A2EAG9GXCYXLBZ  0310212472   \n",
       "2  A18O7HJIJNTO46  0553270257   \n",
       "3  A1JBBR4MNGQ70G  1419819100   \n",
       "4  A1P7S9FE1QPK31  B002NPY7GS   \n",
       "\n",
       "                                         review_text  overall  category  good  \\\n",
       "0  Amazing and Disgusting I bought this product o...      5.0        12     1   \n",
       "1  A Beautifully Written Legend Several years ago...      5.0         5     0   \n",
       "2  Not her best but not bad This book is a pretty...      3.0         5     0   \n",
       "3  This train doesn't  seem to know where its goi...      2.0        15     0   \n",
       "4  Is Quality Control Slipping? What Is Going On ...      1.0        15     0   \n",
       "\n",
       "   bad  \n",
       "0    0  \n",
       "1    0  \n",
       "2    1  \n",
       "3    0  \n",
       "4    0  "
      ]
     },
     "execution_count": 3,
     "metadata": {},
     "output_type": "execute_result"
    }
   ],
   "source": [
    "category_map = {\n",
    "    \"Amazon_Instant_Video\" : 0,\n",
    "    \"Apps_for_Android\" : 1,\n",
    "    \"Automotive\" : 2,\n",
    "    \"Baby\" : 3,\n",
    "    \"Beauty\" : 4,\n",
    "    \"Books\" : 5,\n",
    "    \"CDs_and_Vinyl\" : 6,\n",
    "    \"Cell_Phones_and_Accessories\" : 7,\n",
    "    \"Clothing_Shoes_and_Jewelry\" : 8,\n",
    "    \"Digital_Music\" : 9,\n",
    "    \"Electronics\" : 10,\n",
    "    \"Grocery_and_Gourmet_Food\" : 11,\n",
    "    \"Health_and_Personal_Care\" : 12,\n",
    "    \"Home_and_Kitchen\" : 13,\n",
    "    \"Kindle_Store\" : 14,\n",
    "    \"Movies_and_TV\" : 15,\n",
    "    \"Musical_Instruments\" : 16,\n",
    "    \"Office_Products\" : 17,\n",
    "    \"Patio_Lawn_and_Garden\" : 18,\n",
    "    \"Pet_Supplies\" : 19,\n",
    "    \"Sports_and_Outdoors\" : 20,\n",
    "    \"Tools_and_Home_Improvement\" : 21,\n",
    "    \"Toys_and_Games\" : 22,\n",
    "    \"Video_Games\" : 23\n",
    "}\n",
    "\n",
    "col_names = [\"reviewer_id\", \"asin\", \"review_text\", \"overall\", \"category\", \n",
    "             \"good\", \"bad\"]\n",
    "\n",
    "def read_dataset(fn):\n",
    "    data = []\n",
    "    with open(fn) as f:\n",
    "        for line in f:\n",
    "            d = json.loads(line)\n",
    "            pf, tf = d[\"helpful\"]\n",
    "            score = (1.0 * pf) / (1.0 * tf)\n",
    "            row = [d[\"reviewerID\"], \n",
    "                   d[\"asin\"], \n",
    "                   d[\"summary\"] + ' ' + d[\"reviewText\"],\n",
    "                   d[\"overall\"],\n",
    "                   category_map[d[\"category\"]],\n",
    "                   int(score > 0.80),\n",
    "                   int(score <= 0.20)]\n",
    "            data.append(row)\n",
    "    return pd.DataFrame(data, columns=col_names)\n",
    "\n",
    "print 'Creating dataframe...'\n",
    "df = read_dataset(dataset_src_fn)\n",
    "df = df.sample(frac=1).reset_index(drop=True) # Randomize entry order\n",
    "df.head()"
   ]
  },
  {
   "cell_type": "markdown",
   "metadata": {},
   "source": [
    "### Prune dataset"
   ]
  },
  {
   "cell_type": "code",
   "execution_count": 4,
   "metadata": {
    "collapsed": false
   },
   "outputs": [
    {
     "name": "stdout",
     "output_type": "stream",
     "text": [
      "50000 100000 50000\n"
     ]
    }
   ],
   "source": [
    "df_good = df.loc[df['good'] == 1]\n",
    "df_good = df_good.sample(frac=1).reset_index(drop=True)\n",
    "df_good.drop(df_good.index[num_good:], inplace=True)\n",
    "\n",
    "df_bad = df.loc[df['bad'] == 1]\n",
    "df_bad = df_bad.sample(frac=1).reset_index(drop=True)\n",
    "df_bad.drop(df_bad.index[num_bad:], inplace=True)\n",
    "\n",
    "df_neutral = df.loc[(df['good'] == 0) & (df['bad'] == 0)]\n",
    "df_neutral = df_neutral.sample(frac=1).reset_index(drop=True)\n",
    "df_neutral.drop(df_neutral.index[num_neutral:], inplace=True)\n",
    "\n",
    "print len(df_good), len(df_bad), len(df_neutral)"
   ]
  },
  {
   "cell_type": "code",
   "execution_count": 5,
   "metadata": {
    "collapsed": false
   },
   "outputs": [
    {
     "name": "stdout",
     "output_type": "stream",
     "text": [
      "Number of entries: 200000\n",
      "Good count: 50000\n",
      "Bad count: 100000\n",
      "Neutral count: 50000\n"
     ]
    },
    {
     "data": {
      "text/html": [
       "<div>\n",
       "<table border=\"1\" class=\"dataframe\">\n",
       "  <thead>\n",
       "    <tr style=\"text-align: right;\">\n",
       "      <th></th>\n",
       "      <th>reviewer_id</th>\n",
       "      <th>asin</th>\n",
       "      <th>review_text</th>\n",
       "      <th>overall</th>\n",
       "      <th>category</th>\n",
       "      <th>good</th>\n",
       "      <th>bad</th>\n",
       "    </tr>\n",
       "  </thead>\n",
       "  <tbody>\n",
       "    <tr>\n",
       "      <th>0</th>\n",
       "      <td>AH55IQMRBY2Y0</td>\n",
       "      <td>0762418133</td>\n",
       "      <td>Excellent book!!! Thomas Paine was the most im...</td>\n",
       "      <td>5.0</td>\n",
       "      <td>5</td>\n",
       "      <td>0</td>\n",
       "      <td>0</td>\n",
       "    </tr>\n",
       "    <tr>\n",
       "      <th>1</th>\n",
       "      <td>A1G5Q9HBN0EGDV</td>\n",
       "      <td>0780626702</td>\n",
       "      <td>\"I Was Afraid You'd Stop Loving Me\" Joan Fonta...</td>\n",
       "      <td>5.0</td>\n",
       "      <td>15</td>\n",
       "      <td>1</td>\n",
       "      <td>0</td>\n",
       "    </tr>\n",
       "    <tr>\n",
       "      <th>2</th>\n",
       "      <td>A3QVAKVRAH657N</td>\n",
       "      <td>0061741361</td>\n",
       "      <td>Early and excellent Elmore Leonard In 1992 the...</td>\n",
       "      <td>5.0</td>\n",
       "      <td>5</td>\n",
       "      <td>1</td>\n",
       "      <td>0</td>\n",
       "    </tr>\n",
       "    <tr>\n",
       "      <th>3</th>\n",
       "      <td>A1AFXJ8U72MD6L</td>\n",
       "      <td>068481594X</td>\n",
       "      <td>Great methods here if you stick to the formula...</td>\n",
       "      <td>4.0</td>\n",
       "      <td>5</td>\n",
       "      <td>0</td>\n",
       "      <td>0</td>\n",
       "    </tr>\n",
       "    <tr>\n",
       "      <th>4</th>\n",
       "      <td>A2YM6JTQIBZ8YC</td>\n",
       "      <td>B00008DDWT</td>\n",
       "      <td>Scumbags Skating on and destroying other peopl...</td>\n",
       "      <td>1.0</td>\n",
       "      <td>15</td>\n",
       "      <td>0</td>\n",
       "      <td>1</td>\n",
       "    </tr>\n",
       "  </tbody>\n",
       "</table>\n",
       "</div>"
      ],
      "text/plain": [
       "      reviewer_id        asin  \\\n",
       "0   AH55IQMRBY2Y0  0762418133   \n",
       "1  A1G5Q9HBN0EGDV  0780626702   \n",
       "2  A3QVAKVRAH657N  0061741361   \n",
       "3  A1AFXJ8U72MD6L  068481594X   \n",
       "4  A2YM6JTQIBZ8YC  B00008DDWT   \n",
       "\n",
       "                                         review_text  overall  category  good  \\\n",
       "0  Excellent book!!! Thomas Paine was the most im...      5.0         5     0   \n",
       "1  \"I Was Afraid You'd Stop Loving Me\" Joan Fonta...      5.0        15     1   \n",
       "2  Early and excellent Elmore Leonard In 1992 the...      5.0         5     1   \n",
       "3  Great methods here if you stick to the formula...      4.0         5     0   \n",
       "4  Scumbags Skating on and destroying other peopl...      1.0        15     0   \n",
       "\n",
       "   bad  \n",
       "0    0  \n",
       "1    0  \n",
       "2    0  \n",
       "3    0  \n",
       "4    1  "
      ]
     },
     "execution_count": 5,
     "metadata": {},
     "output_type": "execute_result"
    }
   ],
   "source": [
    "df_min = pd.concat([df_good, df_bad, df_neutral], axis=0, join='outer', ignore_index=True)\n",
    "df_min = df_min.sample(frac=1).reset_index(drop=True)\n",
    "del df, df_good, df_bad, df_neutral # Free memory\n",
    "print \"Number of entries:\", len(df_min)\n",
    "print \"Good count:\", len(df_min.loc[df_min['good'] == 1])\n",
    "print \"Bad count:\", len(df_min.loc[df_min['bad'] == 1])\n",
    "print \"Neutral count:\", len(df_min.loc[(df_min['good'] == 0) & (df_min['bad'] == 0)])\n",
    "df_min.head()"
   ]
  },
  {
   "cell_type": "markdown",
   "metadata": {},
   "source": [
    "### Normalize review text"
   ]
  },
  {
   "cell_type": "code",
   "execution_count": 6,
   "metadata": {
    "collapsed": false
   },
   "outputs": [
    {
     "name": "stdout",
     "output_type": "stream",
     "text": [
      "Entry 1/200000.\n",
      "Entry 10001/200000.\n",
      "Entry 20001/200000.\n",
      "Entry 30001/200000.\n",
      "Entry 40001/200000.\n",
      "Entry 50001/200000.\n",
      "Entry 60001/200000.\n",
      "Entry 70001/200000.\n",
      "Entry 80001/200000.\n",
      "Entry 90001/200000.\n",
      "Entry 100001/200000.\n",
      "Entry 110001/200000.\n",
      "Entry 120001/200000.\n",
      "Entry 130001/200000.\n",
      "Entry 140001/200000.\n",
      "Entry 150001/200000.\n",
      "Entry 160001/200000.\n",
      "Entry 170001/200000.\n",
      "Entry 180001/200000.\n",
      "Entry 190001/200000.\n",
      "Entry 200000/200000.\n",
      "Finished pre-processing review text.\n"
     ]
    }
   ],
   "source": [
    "stop_words = stopwords.words('english')\n",
    "word_pattern = re.compile(\"[A-Za-z]+\")\n",
    "n_entries = len(df_min)\n",
    "df_norm = pd.DataFrame(columns=col_names, index=range(n_entries))\n",
    "\n",
    "def normalize_review_text(text):\n",
    "    def norm_filter(w):\n",
    "        return w not in stop_words and \\\n",
    "               len(w) > 2\n",
    "    tokens = nltk.regexp_tokenize(text.lower(), word_pattern)\n",
    "    return ' '.join(filter(norm_filter, tokens))\n",
    "\n",
    "for idx in xrange(n_entries):\n",
    "    row = df_min.iloc[idx]\n",
    "    norm_text = normalize_review_text(row['review_text'])\n",
    "    df_norm.iloc[idx] = [\n",
    "        row['reviewer_id'],\n",
    "        row['asin'],\n",
    "        norm_text,\n",
    "        row['overall'],\n",
    "        row['category'],\n",
    "        row['good'],\n",
    "        row['bad']\n",
    "    ]\n",
    "    if idx % 10000 == 0 or idx + 1 == n_entries:\n",
    "        print 'Entry ' + str(idx + 1) + '/' + str(n_entries) + '.'\n",
    "\n",
    "print \"Finished pre-processing review text.\""
   ]
  },
  {
   "cell_type": "code",
   "execution_count": 7,
   "metadata": {
    "collapsed": false
   },
   "outputs": [
    {
     "name": "stdout",
     "output_type": "stream",
     "text": [
      "Saved to disk!\n"
     ]
    }
   ],
   "source": [
    "df_norm.to_csv(path_or_buf=final_df_name, sep='|')\n",
    "print \"Saved to disk!\""
   ]
  }
 ],
 "metadata": {
  "kernelspec": {
   "display_name": "Python 2",
   "language": "python",
   "name": "python2"
  },
  "language_info": {
   "codemirror_mode": {
    "name": "ipython",
    "version": 2
   },
   "file_extension": ".py",
   "mimetype": "text/x-python",
   "name": "python",
   "nbconvert_exporter": "python",
   "pygments_lexer": "ipython2",
   "version": "2.7.12"
  }
 },
 "nbformat": 4,
 "nbformat_minor": 1
}
